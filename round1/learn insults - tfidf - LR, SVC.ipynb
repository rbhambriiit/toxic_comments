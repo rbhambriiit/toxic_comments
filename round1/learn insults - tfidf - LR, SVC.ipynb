{
 "cells": [
  {
   "cell_type": "code",
   "execution_count": 1,
   "metadata": {
    "_cell_guid": "cea8c321-1461-4148-bdaf-d54fb322d7da",
    "_uuid": "30bbf611978321e5f1e7157acbf8bf6efb62c9b7"
   },
   "outputs": [
    {
     "name": "stdout",
     "output_type": "stream",
     "text": [
      "sample_submission.csv\n",
      "test.csv\n",
      "train.csv\n",
      "\n"
     ]
    }
   ],
   "source": [
    "# This Python 3 environment comes with many helpful analytics libraries installed\n",
    "# It is defined by the kaggle/python docker image: https://github.com/kaggle/docker-python\n",
    "# For example, here's several helpful packages to load in \n",
    "\n",
    "import numpy as np # linear algebra\n",
    "import pandas as pd # data processing, CSV file I/O (e.g. pd.read_csv)\n",
    "\n",
    "# Input data files are available in the \"../input/\" directory.\n",
    "# For example, running this (by clicking run or pressing Shift+Enter) will list the files in the input directory\n",
    "\n",
    "from subprocess import check_output\n",
    "print(check_output([\"ls\", \"../input\"]).decode(\"utf8\"))\n",
    "\n",
    "# Any results you write to the current directory are saved as output."
   ]
  },
  {
   "cell_type": "code",
   "execution_count": 2,
   "metadata": {
    "collapsed": true
   },
   "outputs": [],
   "source": [
    "train = pd.read_csv('../input/train.csv')"
   ]
  },
  {
   "cell_type": "code",
   "execution_count": 3,
   "metadata": {
    "collapsed": true
   },
   "outputs": [],
   "source": [
    "from sklearn.feature_extraction.text import TfidfVectorizer\n",
    "cv = TfidfVectorizer(min_df=3,stop_words='english',ngram_range=(1,3),max_df=0.7, sublinear_tf=1, lowercase=True)"
   ]
  },
  {
   "cell_type": "code",
   "execution_count": 4,
   "metadata": {},
   "outputs": [
    {
     "name": "stderr",
     "output_type": "stream",
     "text": [
      "/opt/conda/lib/python3.6/site-packages/sklearn/cross_validation.py:41: DeprecationWarning: This module was deprecated in version 0.18 in favor of the model_selection module into which all the refactored classes and functions are moved. Also note that the interface of the new CV iterators are different from that of this module. This module will be removed in 0.20.\n",
      "  \"This module will be removed in 0.20.\", DeprecationWarning)\n"
     ]
    }
   ],
   "source": [
    "from sklearn.cross_validation import train_test_split\n",
    "df_x=train[\"comment_text\"]\n",
    "df_y=train[\"insult\"]\n",
    "x_train, x_test, y_train, y_test = train_test_split(df_x, df_y, test_size=0.2, random_state=4)"
   ]
  },
  {
   "cell_type": "code",
   "execution_count": 5,
   "metadata": {},
   "outputs": [],
   "source": [
    "x_traincv=cv.fit_transform(x_train)\n",
    "\n"
   ]
  },
  {
   "cell_type": "code",
   "execution_count": 6,
   "metadata": {},
   "outputs": [
    {
     "name": "stdout",
     "output_type": "stream",
     "text": [
      "[LibLinear]"
     ]
    },
    {
     "data": {
      "text/plain": [
       "LogisticRegression(C=1.0, class_weight=None, dual=False, fit_intercept=True,\n",
       "          intercept_scaling=1, max_iter=100, multi_class='ovr', n_jobs=1,\n",
       "          penalty='l1', random_state=None, solver='liblinear', tol=0.0001,\n",
       "          verbose=1, warm_start=False)"
      ]
     },
     "execution_count": 6,
     "metadata": {},
     "output_type": "execute_result"
    }
   ],
   "source": [
    "from sklearn.linear_model import LogisticRegression\n",
    "clf_lr = LogisticRegression(penalty='l1', verbose=1)\n",
    "clf_lr.fit(x_traincv,y_train)\n"
   ]
  },
  {
   "cell_type": "code",
   "execution_count": 7,
   "metadata": {
    "collapsed": true
   },
   "outputs": [],
   "source": [
    "x_testcv=cv.transform(x_test)\n",
    "predictions=clf_lr.predict(x_testcv)"
   ]
  },
  {
   "cell_type": "code",
   "execution_count": 8,
   "metadata": {
    "collapsed": true
   },
   "outputs": [],
   "source": [
    "a=np.array(y_test)"
   ]
  },
  {
   "cell_type": "code",
   "execution_count": 9,
   "metadata": {
    "collapsed": true
   },
   "outputs": [],
   "source": [
    "from sklearn.metrics import confusion_matrix\n"
   ]
  },
  {
   "cell_type": "code",
   "execution_count": 10,
   "metadata": {},
   "outputs": [
    {
     "data": {
      "text/plain": [
       "array([[18074,   164],\n",
       "       [  425,   508]])"
      ]
     },
     "execution_count": 10,
     "metadata": {},
     "output_type": "execute_result"
    }
   ],
   "source": [
    "confusion_matrix(a, predictions)"
   ]
  },
  {
   "cell_type": "code",
   "execution_count": 11,
   "metadata": {},
   "outputs": [
    {
     "data": {
      "text/plain": [
       "(array([ 0.97702579,  0.75595238]),\n",
       " array([ 0.99100779,  0.54448017]),\n",
       " array([ 0.98396712,  0.63302181]),\n",
       " array([18238,   933]))"
      ]
     },
     "execution_count": 11,
     "metadata": {},
     "output_type": "execute_result"
    }
   ],
   "source": [
    "from sklearn.metrics import precision_recall_fscore_support\n",
    "precision_recall_fscore_support(a, predictions)"
   ]
  },
  {
   "cell_type": "code",
   "execution_count": 12,
   "metadata": {},
   "outputs": [
    {
     "name": "stdout",
     "output_type": "stream",
     "text": [
      "C: 0.1\n",
      "[LibLinear]\n",
      "Confusion matrix:\n",
      " [[18151    87]\n",
      " [  596   337]]\n",
      "\n",
      "precision_recall_fscore_support:\n",
      " (array([ 0.96820825,  0.79481132]), array([ 0.99522974,  0.36120043]), array([ 0.98153305,  0.49668386]), array([18238,   933]))\n",
      "\n",
      "===========\n",
      "\n",
      "C: 0.5\n",
      "[LibLinear]\n",
      "Confusion matrix:\n",
      " [[18098   140]\n",
      " [  463   470]]\n",
      "\n",
      "precision_recall_fscore_support:\n",
      " (array([ 0.97505522,  0.7704918 ]), array([ 0.99232372,  0.50375134]), array([ 0.98361369,  0.60920285]), array([18238,   933]))\n",
      "\n",
      "===========\n",
      "\n",
      "C: 2.0\n",
      "[LibLinear]\n",
      "Confusion matrix:\n",
      " [[18058   180]\n",
      " [  384   549]]\n",
      "\n",
      "precision_recall_fscore_support:\n",
      " (array([ 0.97917796,  0.75308642]), array([ 0.9901305 ,  0.58842444]), array([ 0.98462377,  0.66064982]), array([18238,   933]))\n",
      "\n",
      "===========\n",
      "\n",
      "C: 4.0\n",
      "[LibLinear]\n",
      "Confusion matrix:\n",
      " [[18037   201]\n",
      " [  367   566]]\n",
      "\n",
      "precision_recall_fscore_support:\n",
      " (array([ 0.98005868,  0.73794003]), array([ 0.98897905,  0.60664523]), array([ 0.98449866,  0.66588235]), array([18238,   933]))\n",
      "\n",
      "===========\n",
      "\n",
      "C: 10.0\n",
      "[LibLinear]\n",
      "Confusion matrix:\n",
      " [[18021   217]\n",
      " [  382   551]]\n",
      "\n",
      "precision_recall_fscore_support:\n",
      " (array([ 0.97924251,  0.71744792]), array([ 0.98810177,  0.59056806]), array([ 0.98365219,  0.6478542 ]), array([18238,   933]))\n",
      "\n",
      "===========\n",
      "\n",
      "C: 200\n",
      "[LibLinear]\n",
      "Confusion matrix:\n",
      " [[17946   292]\n",
      " [  431   502]]\n",
      "\n",
      "precision_recall_fscore_support:\n",
      " (array([ 0.97654677,  0.63224181]), array([ 0.98398947,  0.5380493 ]), array([ 0.98025399,  0.58135495]), array([18238,   933]))\n",
      "\n",
      "===========\n",
      "\n"
     ]
    }
   ],
   "source": [
    "# lets try different values of C\n",
    "Cs = [0.1, 0.5, 2.0, 4.0, 10.0, 200]\n",
    "\n",
    "for C in Cs:\n",
    "    print('C:', C)\n",
    "    clf_lr = LogisticRegression(penalty='l1', verbose=1, C=C)\n",
    "    clf_lr.fit(x_traincv,y_train)\n",
    "    predictions=clf_lr.predict(x_testcv)\n",
    "    CM = confusion_matrix(a, predictions)\n",
    "    print('\\nConfusion matrix:\\n', CM)\n",
    "    score = precision_recall_fscore_support(a, predictions)\n",
    "    print('\\nprecision_recall_fscore_support:\\n', score)\n",
    "    print('\\n===========\\n')"
   ]
  },
  {
   "cell_type": "code",
   "execution_count": 13,
   "metadata": {
    "collapsed": true
   },
   "outputs": [],
   "source": [
    "# C = 4 looks like a good value"
   ]
  },
  {
   "cell_type": "code",
   "execution_count": 14,
   "metadata": {
    "collapsed": true
   },
   "outputs": [],
   "source": [
    "# lets also try SVC - takes hell lot of a time with so many features...\n"
   ]
  },
  {
   "cell_type": "code",
   "execution_count": 15,
   "metadata": {
    "collapsed": true
   },
   "outputs": [],
   "source": [
    "# from sklearn.svm import SVC\n",
    "# clf_svc = SVC(kernel = 'linear')"
   ]
  },
  {
   "cell_type": "code",
   "execution_count": 16,
   "metadata": {
    "collapsed": true
   },
   "outputs": [],
   "source": [
    "# clf_svc.fit(x_traincv,y_train)"
   ]
  },
  {
   "cell_type": "code",
   "execution_count": 17,
   "metadata": {
    "collapsed": true
   },
   "outputs": [
    {
     "data": {
      "text/plain": [
       "\"\\npredictions=clf_svc.predict(x_testcv)\\nCM = confusion_matrix(a, predictions)\\nprint('\\nConfusion matrix:\\n', CM)\\nscore = precision_recall_fscore_support(a, predictions)\\nprint('\\nprecision_recall_fscore_support:\\n', score)\\n\""
      ]
     },
     "execution_count": 17,
     "metadata": {},
     "output_type": "execute_result"
    }
   ],
   "source": [
    "'''\n",
    "predictions=clf_svc.predict(x_testcv)\n",
    "CM = confusion_matrix(a, predictions)\n",
    "print('\\nConfusion matrix:\\n', CM)\n",
    "score = precision_recall_fscore_support(a, predictions)\n",
    "print('\\nprecision_recall_fscore_support:\\n', score)\n",
    "'''\n"
   ]
  },
  {
   "cell_type": "code",
   "execution_count": 18,
   "metadata": {
    "collapsed": true
   },
   "outputs": [],
   "source": [
    "\n"
   ]
  }
 ],
 "metadata": {
  "kernelspec": {
   "display_name": "Python 3",
   "language": "python",
   "name": "python3"
  },
  "language_info": {
   "codemirror_mode": {
    "name": "ipython",
    "version": 3
   },
   "file_extension": ".py",
   "mimetype": "text/x-python",
   "name": "python",
   "nbconvert_exporter": "python",
   "pygments_lexer": "ipython3",
   "version": "3.6.3"
  }
 },
 "nbformat": 4,
 "nbformat_minor": 1
}
