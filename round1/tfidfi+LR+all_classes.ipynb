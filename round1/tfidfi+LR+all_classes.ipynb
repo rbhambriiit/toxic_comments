{
  "cells": [
    {
      "metadata": {
        "_cell_guid": "be6c9c71-6b7e-440f-93d4-3750756f48a6",
        "_uuid": "693eff7be55a6fd3b6689711d55f4e64022e133f",
        "trusted": true
      },
      "cell_type": "code",
      "source": "# This Python 3 environment comes with many helpful analytics libraries installed\n# It is defined by the kaggle/python docker image: https://github.com/kaggle/docker-python\n# For example, here's several helpful packages to load in \n\nimport numpy as np # linear algebra\nimport pandas as pd # data processing, CSV file I/O (e.g. pd.read_csv)\n\n# Input data files are available in the \"../input/\" directory.\n# For example, running this (by clicking run or pressing Shift+Enter) will list the files in the input directory\n\nfrom subprocess import check_output\nprint(check_output([\"ls\", \"../input\"]).decode(\"utf8\"))\n\n# Any results you write to the current directory are saved as output.",
      "execution_count": 1,
      "outputs": [
        {
          "output_type": "stream",
          "text": "sample_submission.csv\ntest.csv\ntrain.csv\n\n",
          "name": "stdout"
        }
      ]
    },
    {
      "metadata": {
        "trusted": true,
        "collapsed": true,
        "_uuid": "19f3561568e793a3e0aae19481e19d80d5c1387a"
      },
      "cell_type": "code",
      "source": "train = pd.read_csv('../input/train.csv')",
      "execution_count": 2,
      "outputs": []
    },
    {
      "metadata": {
        "trusted": true,
        "collapsed": true,
        "_uuid": "9e31c1ba13198b366bf50305b7221300c9364da0"
      },
      "cell_type": "code",
      "source": "def subsample_data(train, target_column):\n    columns_roi = [ 'comment_text', target_column]\n\n    positives = train[train[target_column]==1][columns_roi]\n    pos_size = positives.shape[0]\n    print('pos_size:', pos_size)\n    neg_size = 2* pos_size\n    negatives = train[train[target_column]==0][:neg_size][columns_roi]\n    \n    dataset = pd.concat([positives , negatives])\n    dataset = dataset.sample(frac=1).reset_index(drop=True)\n    return dataset",
      "execution_count": 3,
      "outputs": []
    },
    {
      "metadata": {
        "trusted": true,
        "collapsed": true,
        "_uuid": "3e406b45fceaefccd3df5bb4714bb61321579e9f"
      },
      "cell_type": "code",
      "source": "def build_svm(x_traincv, y_train):\n    from sklearn.svm import SVC\n    clf_svc = SVC(kernel = 'linear')\n\n    print('Model fit start')\n    clf_svc.fit(x_traincv,y_train)\n    print('Model fit complete')\n    return clf_svc\n\n\ndef build_lr(x_traincv, y_train):\n    from sklearn.linear_model import LogisticRegression\n    clf_lr = LogisticRegression(penalty='l1', verbose=1)\n    print('Model fit start')\n    clf_lr.fit(x_traincv,y_train)\n    print('Model fit complete')\n    return clf_lr\n\n\ndef prediction_and_metrics(clf_svc, x_testcv, y_test):\n    from sklearn.metrics import confusion_matrix\n    from sklearn.metrics import precision_recall_fscore_support\n    \n    predictions=clf_svc.predict(x_testcv)\n    \n    a=np.array(y_test)\n    CM = confusion_matrix(a, predictions)\n    print('\\nConfusion matrix:\\n', CM)\n    score = precision_recall_fscore_support(a, predictions)\n    print('\\nprecision_recall_fscore_support:\\n', score)\n\n\ndef find_most_important_features(cv, model):\n    # supported only for linear kernels\n    feature_names = cv.get_feature_names()\n    coefs_with_fns = sorted(zip(model.coef_[0], feature_names))\n    n = 50\n    top = zip(coefs_with_fns[:n], coefs_with_fns[:-(n+1):-1])\n    \n    print('\\nMost informative features\\n')\n    for (coef_1, fn_1), (coef_2, fn_2) in top:\n        print(coef_1, fn_1, '   ', coef_2, fn_2)\n\ndef vectorise(x_train, x_test):\n    from sklearn.feature_extraction.text import TfidfVectorizer\n\n    # tfidf vectoriser\n    cv = TfidfVectorizer(min_df=3 , ngram_range=(1,3),max_df=0.7, sublinear_tf=1, lowercase=True)\n    \n    # feature generation\n    x_traincv=cv.fit_transform(x_train)\n    print('#features:', len(cv.get_feature_names()))\n    \n    x_testcv=cv.transform(x_test)\n    return cv, x_traincv, x_testcv\n\n    \n\n\ndef pipeline(train, target_column='insult'):\n    from sklearn.cross_validation import train_test_split\n\n    # data needs to be sub sampled here..\n    dataset = subsample_data(train, target_column)\n    \n    # test train split\n    df_x=dataset[\"comment_text\"]\n    df_y=dataset[target_column]\n    x_train, x_test, y_train, y_test = train_test_split(df_x, df_y, test_size=0.2, random_state=4)\n    \n    cv, x_traincv, x_testcv = vectorise(x_train, x_test)\n    \n    clf = build_lr(x_traincv,y_train)\n    prediction_and_metrics(clf, x_testcv, y_test)\n    \n    find_most_important_features(cv, model=clf)\n    return cv, clf",
      "execution_count": 9,
      "outputs": []
    },
    {
      "metadata": {
        "trusted": true,
        "_uuid": "5bd0ba002bca6ac51d0bbef58a31d2d73f517e79"
      },
      "cell_type": "code",
      "source": "pipeline(train, target_column='insult')",
      "execution_count": 10,
      "outputs": [
        {
          "output_type": "stream",
          "text": "pos_size: 4765\n#features: 55662\nModel fit start\n[LibLinear]Model fit complete\n\nConfusion matrix:\n [[1853   60]\n [ 172  774]]\n\nprecision_recall_fscore_support:\n (array([ 0.91506173,  0.92805755]), array([ 0.96863565,  0.81818182]), array([ 0.94108685,  0.86966292]), array([1913,  946]))\n\nMost informative features\n\n-9.05117567754 talk     26.8958810262 idiot\n-7.00201413029 the     24.9695578311 fuck\n-6.79547011414 thank you     21.8726308047 fucking\n-5.23915413215 could     21.5762213494 bitch\n-4.92636132616 please     21.2592102168 asshole\n-4.74055806756 there     20.484091681 stupid\n-4.6494764054 to     19.0059033172 ass\n-4.35654123901 may     15.9232996142 cunt\n-3.9197902382 for     15.4164276029 you\n-3.75467503326 as     15.276919276 moron\n-3.69422151508 article     14.4011858804 shit\n-3.68505742499 wp     13.3884485642 dick\n-3.5691003892 not     13.1794694521 idiots\n-3.51929883118 thanks     13.0457464147 suck\n-3.0693275372 welcome     12.9916970903 faggot\n-2.97949151716 if     12.887830345 bastard\n-2.92372887395 been     10.1024846998 dumb\n-2.8666902712 help     10.0727206691 morons\n-2.73840171666 source     9.27790770759 dickhead\n-2.6489876533 in     8.87641901578 fat\n-2.56045060085 but     8.87325241775 hell\n-2.50151549514 which     8.46218600713 pathetic\n-2.44790621891 also     8.26066065635 fool\n-2.3825859476 point     7.97329079124 assholes\n-2.35188177247 if you     7.66347839508 nigger\n-2.32730120299 see     7.59676475557 retarded\n-2.3267215375 or     7.31170256443 off\n-2.26452618199 it     7.26365081889 go\n-2.14622804879 you can     7.21913198237 your\n-2.11820341757 any     7.08052272983 pig\n-2.03114050867 of the     6.63551852448 gay\n-1.64919371985 utc     6.1751459118 freak\n-1.52706186324 discussion     6.07091023776 fag\n-1.43978815977 isnt     6.03911035194 scum\n-1.41800808809 that     6.03037083955 you are\n-1.16810798823 content     5.98817017758 nazi\n-1.09863257508 at     5.91518353805 motherfucker\n-1.07340093768 are not     5.76304447748 cock\n-0.912159348413 would     5.69997893402 mother\n-0.905561153596 edit     5.66725124811 homosexual\n-0.899354467296 sorry     5.6371612871 stop being\n-0.823319431134 section     5.61599946922 jerk\n-0.817688148594 original     5.25259862629 penis\n-0.817527258379 hi     5.17394255639 dumbass\n-0.777754617114 used     5.00827123727 fuckin\n-0.627932994574 better     4.90196198783 die\n-0.626162473016 ve     4.8850678987 bastards\n-0.618424514343 from     4.83236100371 like\n-0.518314474509 can     4.77763855944 you re\n-0.506887979033 ll     4.76568509883 racist\n",
          "name": "stdout"
        },
        {
          "output_type": "execute_result",
          "execution_count": 10,
          "data": {
            "text/plain": "(TfidfVectorizer(analyzer='word', binary=False, decode_error='strict',\n         dtype=<class 'numpy.int64'>, encoding='utf-8', input='content',\n         lowercase=True, max_df=0.7, max_features=None, min_df=3,\n         ngram_range=(1, 3), norm='l2', preprocessor=None, smooth_idf=True,\n         stop_words=None, strip_accents=None, sublinear_tf=1,\n         token_pattern='(?u)\\\\b\\\\w\\\\w+\\\\b', tokenizer=None, use_idf=True,\n         vocabulary=None),\n LogisticRegression(C=1.0, class_weight=None, dual=False, fit_intercept=True,\n           intercept_scaling=1, max_iter=100, multi_class='ovr', n_jobs=1,\n           penalty='l1', random_state=None, solver='liblinear', tol=0.0001,\n           verbose=1, warm_start=False))"
          },
          "metadata": {}
        }
      ]
    },
    {
      "metadata": {
        "trusted": true,
        "_uuid": "0adfbf05b438bb83f962a4ff050909fc2d94c931"
      },
      "cell_type": "code",
      "source": "my_targets = ['toxic', 'severe_toxic', 'obscene', 'threat',\n       'insult', 'identity_hate']\n\nfrom sklearn.externals import joblib\n\nfor target in my_targets:\n    print('\\nTarget:', target)\n    \n    cv, model = pipeline(train, target_column=target)\n    \n    cv_name = 'cv_jan2_' + target + '.pkl'\n    model_name = 'clf_lr_jan2_' + target + '.pkl'\n    print('Saving:', cv_name, model_name)\n    \n    joblib.dump(model, model_name)     \n    joblib.dump(cv, cv_name)     \n    \n    print('==================\\n')",
      "execution_count": 11,
      "outputs": [
        {
          "output_type": "stream",
          "text": "\nTarget: toxic\npos_size: 9237\n#features: 108085\nModel fit start\n[LibLinear]Model fit complete\n\nConfusion matrix:\n [[3510  142]\n [ 445 1446]]\n\nprecision_recall_fscore_support:\n (array([ 0.8874842 ,  0.91057935]), array([ 0.9611172 ,  0.76467478]), array([ 0.92283423,  0.83127335]), array([3652, 1891]))\n\nMost informative features\n\n-8.9775624768 thank you     48.6054685006 fuck\n-7.9389860667 thanks     40.3307070214 fucking\n-7.91052585192 talk     33.3733207919 shit\n-7.85264067331 please     27.0930046668 stupid\n-6.55771050249 the     25.750941718 idiot\n-5.92524295423 may     24.5386966149 bullshit\n-5.64004323839 utc     23.7854593036 ass\n-5.50883688756 to     22.3005101449 asshole\n-5.26222037244 for     21.6083020584 crap\n-5.25533957422 article     19.6785430061 bitch\n-5.16349512494 welcome     18.7737015996 suck\n-4.83299403288 wp     17.735882746 dick\n-4.79485289582 at     17.3884587901 hell\n-4.69246642106 source     16.9930414246 pathetic\n-4.55151333736 sources     16.372260103 idiots\n-4.23810622106 in     14.7623322307 sucks\n-4.21801632704 see     14.6646748089 you\n-4.12478417593 help     14.6252738969 shut\n-3.84117108426 thank     14.1465299129 cunt\n-3.76359113552 but     13.9584011227 fucked\n-3.69850458844 hi     13.9057008291 faggot\n-3.66631846433 there     13.3508474875 penis\n-3.64243510102 could     13.1424225066 gay\n-3.63345391754 blocked from editing     12.8779237836 fool\n-3.37568367681 sorry     12.5729313253 hate\n-3.22889752567 if     12.350842231 dumb\n-3.22522249676 would     12.0168353856 nazi\n-2.98967176482 redirect     12.01393403 disgusting\n-2.95055766461 discussion     11.4505261365 cock\n-2.91975569914 list     11.394408494 damn\n-2.91743291035 agree     11.1900084203 bastard\n-2.89451309842 request     11.0564992735 piss\n-2.68452873427 if you     10.9375434282 sex\n-2.59048882198 need     10.8549224231 homosexual\n-2.57774990367 as     10.2427285527 kill\n-2.55329258368 was     10.1265932801 die\n-2.54838573543 it     10.1036060821 nigger\n-2.53436804111 use     10.1010420758 morons\n-2.44010066581 regards     9.63685521346 moron\n-2.39689365608 of the     9.29388944421 jerk\n-2.37434571699 case     9.24114861045 loser\n-2.26302685572 section     8.75904474048 dumbass\n-2.23738909525 work     8.74366340692 whore\n-2.23656394769 http     8.60537446433 stupidity\n-2.2061102072 add     8.58544674804 racist\n-2.19180973277 deletion     8.46632040793 fag\n-2.1374514574 which     8.258115416 sick\n-2.13396933415 ve     8.04311503549 your\n-2.11326263537 better     8.01883982996 pussy\n-2.07289742837 been     8.01390606713 garbage\nSaving: cv_jan2_toxic.pkl clf_lr_jan2_toxic.pkl\n==================\n\n\nTarget: severe_toxic\npos_size: 965\n#features: 11060\nModel fit start\n[LibLinear]Model fit complete\n\nConfusion matrix:\n [[364  25]\n [ 25 165]]\n\nprecision_recall_fscore_support:\n (array([ 0.93573265,  0.86842105]), array([ 0.93573265,  0.86842105]), array([ 0.93573265,  0.86842105]), array([389, 190]))\n\nMost informative features\n\n-9.54258312213 the     18.9231530491 fucking\n-5.51466116717 for     17.9101795369 fuck\n-5.30878121031 not     10.4579393809 you\n-5.24394684566 talk     9.290895118 ass\n-4.65459805415 that     9.26587120899 asshole\n-3.69078536028 to     7.96611569949 bitch\n-3.12679152923 it     7.89528802268 shit\n-2.40523052792 please     7.25717957527 suck\n-1.98486553353 this     6.69682535431 cock\n-1.74033968664 if     6.68294804805 fucker\n-1.27652413051 as     6.32840527924 dick\n-1.19403753731 see     5.62476135064 faggot\n-1.05271007093 at     4.68564734592 die\n-0.91243406824 article     4.37985048842 off\n-0.125938411746 there     4.14094050346 sucks\n-0.109675031068 any     4.13752400217 your\n0.0 00     3.78527517712 bastard\n0.0 000     3.57401102359 go\n0.0 01     3.53041295451 penis\n0.0 02     3.38548811864 cunt\n0.0 03     2.75904818496 rape\n0.0 04     2.64383151837 am\n0.0 05     2.45840026519 gay\n0.0 06     2.24318165221 fuckin\n0.0 08     2.1453819711 hell\n0.0 09     2.12370632498 nigger\n0.0 10     1.905690146 fag\n0.0 100     1.66326206532 kill\n0.0 11     1.54996775867 stupid\n0.0 114     1.53559355354 mother\n0.0 115     1.45840146769 hate\n0.0 119     1.28670140114 get\n0.0 12     1.15104106689 hey\n0.0 122     1.10068737721 am going\n0.0 123     0.744421620604 my\n0.0 124     0.612259635964 who\n0.0 125     0.595652550901 homo\n0.0 126     0.27509383689 little\n0.0 128     0.260143451116 mum\n0.0 129     0.183072511615 life\n0.0 13     0.124213411586 piece of\n0.0 132     0.0541889294383 gonna\n0.0 135     0.0 zero\n0.0 137     0.0 youtube com\n0.0 138     0.0 youtube\n0.0 139     0.0 yourselves\n0.0 14     0.0 yourself you\n0.0 140     0.0 yourself with\n0.0 142     0.0 yourself to\n0.0 144     0.0 yourself then\nSaving: cv_jan2_severe_toxic.pkl clf_lr_jan2_severe_toxic.pkl\n==================\n\n\nTarget: obscene\npos_size: 5109\n#features: 59981\nModel fit start\n[LibLinear]Model fit complete\n\nConfusion matrix:\n [[2060   37]\n [ 154  815]]\n\nprecision_recall_fscore_support:\n (array([ 0.93044264,  0.95657277]), array([ 0.98235575,  0.84107327]), array([ 0.95569473,  0.89511258]), array([2097,  969]))\n\nMost informative features\n\n-6.96901101701 talk     57.0412045388 fuck\n-6.39806555012 to     51.8632802748 fucking\n-6.3192693789 the     34.3750203268 shit\n-4.96495206704 thanks     30.5846029917 ass\n-4.7951257577 article     26.6904142886 asshole\n-4.47802368898 thank you     26.6670103984 dick\n-4.22243557368 of the     26.4195101402 bitch\n-4.17236085521 please     23.1268074593 bullshit\n-3.94981280159 if     20.7837550527 cunt\n-3.22897735135 there     19.9914237777 suck\n-3.02998358864 as     18.1966414341 stupid\n-3.02266426219 utc     16.1782438038 idiot\n-2.9138432965 for     15.8249494378 bastard\n-2.18778694857 could     15.4672029597 fucked\n-2.00841472061 in     14.8145114348 crap\n-1.96202855271 not     13.9644513287 cock\n-1.84127350008 but     13.5868384221 damn\n-1.80936742282 see     13.0290137594 sucks\n-1.55666661011 wp     12.6001278151 penis\n-1.34338343188 may     11.355767701 faggot\n-1.17800221173 sources     10.4831604523 off\n-1.12433457705 be     10.2046925552 you\n-1.09864599454 deletion     10.1477833215 hell\n-1.05424795834 any     9.99706875965 pussy\n-1.03779844479 articles     9.79296382636 fucker\n-0.996874060119 edit     9.47382151761 nigger\n-0.951514999703 would     8.56639057227 dumbass\n-0.896397650009 page     8.53440552331 assholes\n-0.871597392325 which     8.14734402849 dickhead\n-0.853296525718 source     8.08205701315 sex\n-0.803665979882 point     8.05074516511 motherfucker\n-0.760179820901 was     7.79384113826 arse\n-0.724898096845 have     7.72952940549 fag\n-0.669915924578 ve     7.55773113251 fuckin\n-0.613031691075 that     7.38782699234 scum\n-0.610760377073 section     7.1744727102 wtf\n-0.587554070501 help     7.12083745122 ck\n-0.542172541451 cheers     7.03633653304 jackass\n-0.487564360839 at     6.9570736455 whore\n-0.42878536331 better     6.77124938767 moron\n-0.40104368457 hi     6.58336810077 cocksucker\n-0.338739104455 welcome     6.51958071956 butt\n-0.287860909885 added     6.06904773458 go\n-0.147538647904 link     5.94142879654 jerk\n0.0 00     5.72963126924 hole\n0.0 00 05     5.16879877501 fags\n0.0 00 12     5.1052377495 dumb\n0.0 00 14     5.07221405676 fat\n0.0 00 44     4.74080130034 life\n0.0 000     4.65423170732 big\nSaving: cv_jan2_obscene.pkl clf_lr_jan2_obscene.pkl\n==================\n\n\nTarget: threat\npos_size: 305\n#features: 3630\nModel fit start\n[LibLinear]Model fit complete\n\nConfusion matrix:\n [[116   1]\n [ 21  45]]\n\nprecision_recall_fscore_support:\n (array([ 0.84671533,  0.97826087]), array([ 0.99145299,  0.68181818]), array([ 0.91338583,  0.80357143]), array([117,  66]))\n\nMost informative features\n\n-5.47130592813 the     14.0930368705 kill\n-2.27726585339 is     14.0291640994 die\n-1.67899976871 not     7.38181081284 fucking\n-1.42107051176 article     6.51383982069 will\n-1.11081946652 talk     6.37509600092 death\n0.0 00     6.29028343 going to\n0.0 000     6.08836316717 you\n0.0 02     5.2532281813 ass\n0.0 03     3.39275405922 your\n0.0 06     3.3736926661 ll\n0.0 10     3.05312577573 shoot\n0.0 100     2.68428018898 fuck\n0.0 11     2.45420471291 gonna\n0.0 12     1.9365161607 burn\n0.0 13     1.87588615823 get\n0.0 14     1.59560450337 hell\n0.0 15     1.28629798247 and\n0.0 150     0.40477757455 me\n0.0 158     0.382167450682 faggot\n0.0 16     0.0 yourself you\n0.0 17     0.0 yourself but don\n0.0 18     0.0 yourself but\n0.0 20     0.0 yourself\n0.0 2004     0.0 yours\n0.0 2004 utc     0.0 youre\n0.0 2005     0.0 your test worked\n0.0 2006     0.0 your test\n0.0 2006 utc     0.0 your talk page\n0.0 2007     0.0 your talk\n0.0 2007 utc     0.0 your reference\n0.0 2008     0.0 your recent\n0.0 2008 utc     0.0 your position\n0.0 2010     0.0 your name on\n0.0 2012     0.0 your name\n0.0 2012 utc     0.0 your mum\n0.0 22     0.0 your mother\n0.0 23     0.0 your mom\n0.0 24     0.0 your life\n0.0 26     0.0 your house and\n0.0 27     0.0 your house\n0.0 28     0.0 your help\n0.0 29     0.0 your heart\n0.0 30     0.0 your fucking\n0.0 3rr     0.0 your family\n0.0 40     0.0 your face\n0.0 45     0.0 your edits\n0.0 53     0.0 your edit summary\n0.0 71     0.0 your edit\n0.0 86     0.0 your contributions\n0.0 99     0.0 your children\nSaving: cv_jan2_threat.pkl clf_lr_jan2_threat.pkl\n",
          "name": "stdout"
        },
        {
          "output_type": "stream",
          "text": "==================\n\n\nTarget: insult\npos_size: 4765\n#features: 55798\nModel fit start\n[LibLinear]Model fit complete\n\nConfusion matrix:\n [[1891   68]\n [ 161  739]]\n\nprecision_recall_fscore_support:\n (array([ 0.92153996,  0.9157373 ]), array([ 0.96528841,  0.82111111]), array([ 0.94290701,  0.86584651]), array([1959,  900]))\n\nMost informative features\n\n-10.6347302505 talk     27.5707381305 idiot\n-6.85749269842 the     25.6100398262 fuck\n-6.01186962921 there     24.473494262 fucking\n-5.72567274711 thank you     21.510492141 bitch\n-5.61507477531 as     20.6917873287 stupid\n-5.39074575331 article     20.1752461898 asshole\n-5.0928386626 to     18.5687766482 ass\n-4.61919016553 thanks     14.489517203 idiots\n-4.43347470707 could     14.4427404045 moron\n-3.99877454685 please     14.2594739741 suck\n-3.5917145286 not     14.1742084568 you\n-3.40941843008 if you     13.4805590304 shit\n-3.11088772349 see     13.2989480906 faggot\n-3.06765103621 also     13.0829509334 cunt\n-2.84640093532 been     12.4544731039 dick\n-2.82742585999 for     12.4392100583 bastard\n-2.67091096736 may     10.1680224487 hell\n-2.64892062855 but     9.87271243437 dumb\n-2.61863122413 which     9.84409257682 fat\n-2.51094248337 in     9.42361883655 pathetic\n-2.48449991406 if     8.83779933925 dickhead\n-2.40319582775 of the     8.77315168336 fool\n-2.35254560417 isnt     8.0816259392 ignorant\n-2.26217932929 source     7.85133744312 go\n-2.25313345241 be     7.7305605007 assholes\n-2.20392156667 wp     7.6926262165 pig\n-2.19793890282 utc     7.48861303099 scum\n-2.12736354437 welcome     7.41157561393 morons\n-2.06425619629 articles     7.32706642859 retarded\n-2.01989636727 it     7.30904406025 you are\n-1.71948555292 help     7.18880417367 off\n-1.55136136842 or     7.12443483306 cock\n-1.41446070303 are not     6.97522787486 your\n-1.20024112043 didn     6.78473331616 nigger\n-1.17604919363 point     6.51807081602 retard\n-1.16480650004 edit     6.50667024383 nazi\n-1.12802848378 new     6.412552735 loser\n-1.12551197913 sorry     6.27544460874 gay\n-1.09921239761 any     6.20880538141 fag\n-0.982575160893 support     6.19797238813 piece of\n-0.974978679074 that     6.15018638767 motherfucker\n-0.905115007519 from     6.10609167466 ugly\n-0.830338903842 ve     6.03966493127 dumbass\n-0.820239195371 do you     5.66109684621 penis\n-0.806545397324 why     5.49902848536 bunch of\n-0.78493224236 sure     5.46927305039 stop being\n-0.782069901988 page     5.36143383467 crap\n-0.780040162841 original     5.22593133894 little\n-0.719702930556 this is     5.21467840404 shut\n-0.716458782178 about     5.0517256063 hate\nSaving: cv_jan2_insult.pkl clf_lr_jan2_insult.pkl\n==================\n\n\nTarget: identity_hate\npos_size: 814\n#features: 10065\nModel fit start\n[LibLinear]Model fit complete\n\nConfusion matrix:\n [[312  11]\n [ 46 120]]\n\nprecision_recall_fscore_support:\n (array([ 0.87150838,  0.91603053]), array([ 0.96594427,  0.72289157]), array([ 0.91629956,  0.80808081]), array([323, 166]))\n\nMost informative features\n\n-8.32007199196 talk     17.1586708104 gay\n-4.7303015311 article     13.8997067387 nigger\n-3.91242835389 the     9.79105237012 fuck\n-3.78724896712 for     8.67220279387 faggot\n-3.63950528582 it     8.60285821241 fucking\n-2.11226093066 please     7.54501176452 homosexual\n-2.09803539496 there     6.80060591072 niggers\n-1.97729800615 not     6.32704320908 jews\n-1.5264631785 to     6.29058757983 you\n-1.24781442812 any     5.64866930595 like\n-1.22105519259 on     5.37396126974 hate\n-0.70997353659 this     5.1557580128 jew\n-0.677854461768 thanks     5.14135911212 stupid\n-0.473265474932 as     4.95174016815 black\n-0.44744917601 if     4.80632729437 fag\n-0.148111286486 of     4.71971051252 nigga\n0.0 00     4.42967256587 scum\n0.0 000     3.94245767688 nazi\n0.0 01     3.88772989739 bitch\n0.0 02     3.7271704036 suck\n0.0 03     3.58077529095 ass\n0.0 04     3.50796748096 shit\n0.0 05     2.50651741852 jewish\n0.0 06     2.47883505307 who\n0.0 09     2.4160555121 white\n0.0 10     2.29434270298 dirty\n0.0 100     2.12823695252 are\n0.0 100 000     1.95860284619 fat\n0.0 1000     1.9448772915 go\n0.0 105     1.82310588443 homo\n0.0 107     1.73444937355 muslim\n0.0 11     1.69124727676 get\n0.0 110     1.66452023842 dumb\n0.0 12     1.62423557424 mother\n0.0 12 years     1.62330398257 faggots\n0.0 123     1.61910200175 anti\n0.0 125     1.53449315701 all\n0.0 128     1.30204477642 fucker\n0.0 13     1.20769637838 cunt\n0.0 130     1.15506589577 racist\n0.0 135     0.875305334648 so\n0.0 138     0.843076368123 he\n0.0 139     0.728534352089 nig\n0.0 14     0.686209617234 nazis\n0.0 140     0.665979957131 americans\n0.0 141     0.618822959235 kill\n0.0 144     0.551408896215 their\n0.0 15     0.503804806531 oh\n0.0 156     0.35632682288 balls\n0.0 158     0.281963048979 im\nSaving: cv_jan2_identity_hate.pkl clf_lr_jan2_identity_hate.pkl\n==================\n\n",
          "name": "stdout"
        }
      ]
    },
    {
      "metadata": {
        "trusted": true,
        "collapsed": true,
        "_uuid": "05534e297ddc167c4ac090b296643e0cadac3341"
      },
      "cell_type": "code",
      "source": "",
      "execution_count": null,
      "outputs": []
    }
  ],
  "metadata": {
    "language_info": {
      "name": "python",
      "version": "3.6.3",
      "mimetype": "text/x-python",
      "codemirror_mode": {
        "name": "ipython",
        "version": 3
      },
      "pygments_lexer": "ipython3",
      "nbconvert_exporter": "python",
      "file_extension": ".py"
    },
    "kernelspec": {
      "display_name": "Python 3",
      "language": "python",
      "name": "python3"
    }
  },
  "nbformat": 4,
  "nbformat_minor": 1
}